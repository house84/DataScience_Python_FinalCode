{
 "cells": [
  {
   "cell_type": "markdown",
   "metadata": {},
   "source": [
    "Nick House\n",
    "CS-4200 - Final\n",
    "14 Dec 2020"
   ]
  },
  {
   "cell_type": "code",
   "execution_count": 1,
   "metadata": {},
   "outputs": [
    {
     "name": "stdout",
     "output_type": "stream",
     "text": [
      "Number of Student Objects Created: 6\n",
      "Average: 2.6666666666666665\n"
     ]
    }
   ],
   "source": [
    "import numpy as np\n",
    "import pandas as pd\n",
    "\n",
    "# -------------------- Part 1 --------------------------\n",
    "\n",
    "NSCORES = 5\n",
    "NSTUDENTS = 10\n",
    "\n",
    "#Implement a class called Student\n",
    "class Student:\n",
    "\n",
    "    #Include code in the class definition to keep track of how many Student objects are created.\n",
    "    StudentObjects = 0\n",
    "    score = np.double(0)\n",
    "\n",
    "    def __init__(self, rand):\n",
    "        self.score = self.f(rand)\n",
    "        Student.StudentObjects += 1\n",
    "    \n",
    "    #Return Double of X\n",
    "    def f(self, x):\n",
    "        return np.double(x)\n",
    "    \n",
    "    #Return Score\n",
    "    def get(self):\n",
    "        return self.score \n",
    "\n",
    "\n",
    "#Create list of students and perform computations\n",
    "\n",
    "stulist = np.frompyfunc(Student, 1, 1)(np.random.randint(1,NSCORES+1, size = np.random.randint(1,NSTUDENTS + 1)))\n",
    "\n",
    "print(\"Number of Student Objects Created: \" + str(Student.StudentObjects))\n",
    "   \n",
    "print(\"Average: \" + str(np.mean([i.score for i in stulist]) ))"
   ]
  },
  {
   "cell_type": "code",
   "execution_count": 2,
   "metadata": {},
   "outputs": [
    {
     "name": "stdout",
     "output_type": "stream",
     "text": [
      "a.) \n",
      "[[0.70462557 0.95334113 0.59977891 0.67134607]\n",
      " [0.99469458 0.77982033 0.40908717 0.54429336]\n",
      " [0.39889315 0.65430839 0.59949633 0.05540033]]\n",
      "\n",
      "b.) \n",
      "[[2.6074221  2.85613766 2.50257543 2.5741426 ]\n",
      " [2.89749111 2.68261686 2.3118837  2.44708989]\n",
      " [2.30168967 2.55710492 2.50229286 1.95819686]]\n",
      "\n",
      "c.) \n",
      "[[0.89988959 1.         1.         1.        ]\n",
      " [1.         0.93924635 0.9238018  0.95064271]\n",
      " [0.79437333 0.8953017  0.99988709 0.7607181 ]]\n",
      "\n",
      "d.) \n",
      "[[0.89988959 1.         1.         1.        ]\n",
      " [1.         0.93924635 0.9238018  0.95064271]\n",
      " [0.79437333 0.8953017  0.99988709 0.7607181 ]]\n",
      "\n",
      "e.) \n",
      "True\n",
      "\n",
      "f.) \n",
      "[0.7607181  0.9238018  0.8953017  0.79437333]\n",
      "\n"
     ]
    }
   ],
   "source": [
    "# -------------------- Part 2 --------------------------\n",
    "# Output requirements for part 2 a-f \n",
    "\n",
    "#a.)\n",
    "x = np.random.uniform(0,1,(3,4))\n",
    "print(\"a.) \\n\" +str(x) + \"\\n\")\n",
    "\n",
    "#b.)\n",
    "sqr = np.random.uniform(0,1,(3,1))\n",
    "z = x + np.dot(sqr[:,0], sqr[:,0])\n",
    "print(\"b.) \\n\" +str(z) + \"\\n\")\n",
    "\n",
    "#c.)\n",
    "p = z/np.max(z, axis = 0)\n",
    "print(\"c.) \\n\" + str(p) + \"\\n\")\n",
    "\n",
    "#d.)\n",
    "p = np.where(p <.5, .3, p)\n",
    "print(\"d.) \\n\" + str(p) + \"\\n\")\n",
    "\n",
    "#e.)\n",
    "print(\"e.) \\n\" + str(np.where(np.argmax(p.sum(axis=0)) == np.argmin(p.sum(axis = 1)), 'True', 'False')) + \"\\n\")\n",
    "\n",
    "#f.)\n",
    "print(\"f.) \\n\" + str(np.flip(np.min(p, axis = 0)))+ \"\\n\")\n",
    "\n"
   ]
  }
 ],
 "metadata": {
  "kernelspec": {
   "display_name": "Python 3",
   "language": "python",
   "name": "python3"
  },
  "language_info": {
   "codemirror_mode": {
    "name": "ipython",
    "version": 3
   },
   "file_extension": ".py",
   "mimetype": "text/x-python",
   "name": "python",
   "nbconvert_exporter": "python",
   "pygments_lexer": "ipython3",
   "version": "3.8.1"
  }
 },
 "nbformat": 4,
 "nbformat_minor": 4
}
